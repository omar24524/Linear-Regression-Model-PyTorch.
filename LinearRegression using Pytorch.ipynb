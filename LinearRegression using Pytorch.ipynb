{
 "cells": [
  {
   "cell_type": "code",
   "execution_count": 1,
   "id": "ba523609",
   "metadata": {},
   "outputs": [],
   "source": [
    "import numpy as np\n",
    "import pandas as pd\n",
    "import torch\n",
    "import torch.nn as nn"
   ]
  },
  {
   "cell_type": "code",
   "execution_count": 2,
   "id": "e40ccb97",
   "metadata": {},
   "outputs": [],
   "source": [
    "inputs = np.array([[73, 67, 43],\n",
    "                   [91, 88, 64],\n",
    "                   [87, 134, 58],\n",
    "                   [99, 56, 43],\n",
    "                   [80, 44, 17],\n",
    "                   [111, 58, 84],\n",
    "                   [48, 34, 58],\n",
    "                   [41, 78, 94],\n",
    "                   [107, 54, 37],\n",
    "                   [91, 88, 64],\n",
    "                   [103, 135, 90],\n",
    "                   [102, 43, 37],\n",
    "                   [69, 96, 70]], dtype='float32')"
   ]
  },
  {
   "cell_type": "code",
   "execution_count": 3,
   "id": "70f05343",
   "metadata": {},
   "outputs": [],
   "source": [
    "targets = np.array([[58, 70],\n",
    "                    [81, 101],\n",
    "                    [119, 133],\n",
    "                    [22, 37],\n",
    "                    [103, 119],\n",
    "                    [57, 69],\n",
    "                    [80, 102],\n",
    "                    [118, 132],\n",
    "                    [21, 38],\n",
    "                    [82, 100],\n",
    "                    [20, 38],\n",
    "                    [104, 118],\n",
    "                    [102, 120]], dtype='float32')"
   ]
  },
  {
   "cell_type": "code",
   "execution_count": 4,
   "id": "506d5a7e",
   "metadata": {},
   "outputs": [],
   "source": [
    "inputs = torch.from_numpy(inputs)\n",
    "targets = torch.from_numpy(targets)"
   ]
  },
  {
   "cell_type": "code",
   "execution_count": 7,
   "id": "80209e52",
   "metadata": {},
   "outputs": [
    {
     "data": {
      "text/plain": [
       "tensor([[ 73.,  67.,  43.],\n",
       "        [ 91.,  88.,  64.],\n",
       "        [ 87., 134.,  58.],\n",
       "        [ 99.,  56.,  43.],\n",
       "        [ 80.,  44.,  17.],\n",
       "        [111.,  58.,  84.],\n",
       "        [ 48.,  34.,  58.],\n",
       "        [ 41.,  78.,  94.],\n",
       "        [107.,  54.,  37.],\n",
       "        [ 91.,  88.,  64.],\n",
       "        [103., 135.,  90.],\n",
       "        [102.,  43.,  37.],\n",
       "        [ 69.,  96.,  70.]])"
      ]
     },
     "execution_count": 7,
     "metadata": {},
     "output_type": "execute_result"
    }
   ],
   "source": [
    "inputs"
   ]
  },
  {
   "cell_type": "code",
   "execution_count": 8,
   "id": "78bd9117",
   "metadata": {},
   "outputs": [],
   "source": [
    "from torch.utils.data import TensorDataset"
   ]
  },
  {
   "cell_type": "code",
   "execution_count": 9,
   "id": "4ec5b3db",
   "metadata": {},
   "outputs": [],
   "source": [
    "ds = TensorDataset(inputs,targets)"
   ]
  },
  {
   "cell_type": "code",
   "execution_count": 11,
   "id": "5edbc0a9",
   "metadata": {},
   "outputs": [
    {
     "data": {
      "text/plain": [
       "(tensor([[ 73.,  67.,  43.],\n",
       "         [ 91.,  88.,  64.],\n",
       "         [ 87., 134.,  58.]]),\n",
       " tensor([[ 58.,  70.],\n",
       "         [ 81., 101.],\n",
       "         [119., 133.]]))"
      ]
     },
     "execution_count": 11,
     "metadata": {},
     "output_type": "execute_result"
    }
   ],
   "source": [
    "ds[0:3]"
   ]
  },
  {
   "cell_type": "code",
   "execution_count": 12,
   "id": "e1df77ed",
   "metadata": {},
   "outputs": [],
   "source": [
    "from torch.utils.data import DataLoader"
   ]
  },
  {
   "cell_type": "code",
   "execution_count": 13,
   "id": "3431f552",
   "metadata": {},
   "outputs": [],
   "source": [
    "batch_size = 5\n",
    "train1 = DataLoader(ds,batch_size,shuffle=True)"
   ]
  },
  {
   "cell_type": "code",
   "execution_count": 15,
   "id": "ed5df2a3",
   "metadata": {},
   "outputs": [
    {
     "name": "stdout",
     "output_type": "stream",
     "text": [
      "tensor([[103., 135.,  90.],\n",
      "        [ 73.,  67.,  43.],\n",
      "        [ 48.,  34.,  58.],\n",
      "        [ 41.,  78.,  94.],\n",
      "        [ 87., 134.,  58.]])\n",
      "tensor([[ 20.,  38.],\n",
      "        [ 58.,  70.],\n",
      "        [ 80., 102.],\n",
      "        [118., 132.],\n",
      "        [119., 133.]])\n"
     ]
    }
   ],
   "source": [
    "for xb,yb in train1:\n",
    "    print(xb)\n",
    "    print(yb)\n",
    "    break"
   ]
  },
  {
   "cell_type": "code",
   "execution_count": 16,
   "id": "289e82b7",
   "metadata": {},
   "outputs": [],
   "source": [
    "model = nn.Linear(3,2)"
   ]
  },
  {
   "cell_type": "code",
   "execution_count": 17,
   "id": "5344d4b9",
   "metadata": {},
   "outputs": [
    {
     "name": "stdout",
     "output_type": "stream",
     "text": [
      "Parameter containing:\n",
      "tensor([[-0.4870, -0.3416,  0.3850],\n",
      "        [ 0.3560, -0.4238,  0.2461]], requires_grad=True)\n",
      "Parameter containing:\n",
      "tensor([-0.2751, -0.3626], requires_grad=True)\n"
     ]
    }
   ],
   "source": [
    "print(model.weight)\n",
    "print(model.bias)"
   ]
  },
  {
   "cell_type": "code",
   "execution_count": 18,
   "id": "52cd9625",
   "metadata": {},
   "outputs": [
    {
     "data": {
      "text/plain": [
       "[Parameter containing:\n",
       " tensor([[-0.4870, -0.3416,  0.3850],\n",
       "         [ 0.3560, -0.4238,  0.2461]], requires_grad=True),\n",
       " Parameter containing:\n",
       " tensor([-0.2751, -0.3626], requires_grad=True)]"
      ]
     },
     "execution_count": 18,
     "metadata": {},
     "output_type": "execute_result"
    }
   ],
   "source": [
    "list(model.parameters())"
   ]
  },
  {
   "cell_type": "code",
   "execution_count": 19,
   "id": "fd301c63",
   "metadata": {},
   "outputs": [],
   "source": [
    "pred = model(inputs)"
   ]
  },
  {
   "cell_type": "code",
   "execution_count": 20,
   "id": "ca07140a",
   "metadata": {},
   "outputs": [
    {
     "data": {
      "text/plain": [
       "tensor([[-42.1601,   7.8119],\n",
       "        [-50.0150,  10.4878],\n",
       "        [-66.0903, -11.9060],\n",
       "        [-51.0656,  21.7287],\n",
       "        [-47.7232,  13.6525],\n",
       "        [-41.8076,  35.2420],\n",
       "        [-12.9362,  16.5883],\n",
       "        [-10.6965,   4.3093],\n",
       "        [-56.5889,  23.9475],\n",
       "        [-50.0150,  10.4878],\n",
       "        [-61.9040,   1.2402],\n",
       "        [-50.3961,  26.8292],\n",
       "        [-39.7228,   0.7427]], grad_fn=<AddmmBackward0>)"
      ]
     },
     "execution_count": 20,
     "metadata": {},
     "output_type": "execute_result"
    }
   ],
   "source": [
    "pred"
   ]
  },
  {
   "cell_type": "code",
   "execution_count": 21,
   "id": "cb34b721",
   "metadata": {},
   "outputs": [],
   "source": [
    "import torch.nn.functional as F"
   ]
  },
  {
   "cell_type": "code",
   "execution_count": 22,
   "id": "ffd836c5",
   "metadata": {},
   "outputs": [],
   "source": [
    "loss_fn = F.mse_loss"
   ]
  },
  {
   "cell_type": "code",
   "execution_count": 23,
   "id": "2b565d80",
   "metadata": {},
   "outputs": [],
   "source": [
    "loss = loss_fn(model(inputs) , targets)"
   ]
  },
  {
   "cell_type": "code",
   "execution_count": 24,
   "id": "24a40538",
   "metadata": {},
   "outputs": [
    {
     "name": "stdout",
     "output_type": "stream",
     "text": [
      "tensor(11529.9326, grad_fn=<MseLossBackward0>)\n"
     ]
    }
   ],
   "source": [
    "print(loss)"
   ]
  },
  {
   "cell_type": "code",
   "execution_count": 25,
   "id": "4b4dc73e",
   "metadata": {},
   "outputs": [],
   "source": [
    "opt = torch.optim.SGD(model.parameters(), lr=1e-5)"
   ]
  },
  {
   "cell_type": "code",
   "execution_count": 27,
   "id": "7c090318",
   "metadata": {},
   "outputs": [],
   "source": [
    "def fit(num_epochs, model, loss_fn, opt,ds):\n",
    "    for epoch in range(num_epochs):\n",
    "        for xb,yb in train1:\n",
    "            pred = model(xb)\n",
    "            loss = loss_fn(pred,yb)\n",
    "            loss.backward()\n",
    "            opt.step()\n",
    "            opt.zero_grad()\n",
    "        if(epoch+1) % 10 ==0:\n",
    "            print('Epoch [{}/{}], Loss: {:-4f}'.format(epoch+1 , num_epochs, loss.item()))"
   ]
  },
  {
   "cell_type": "code",
   "execution_count": 31,
   "id": "74d49430",
   "metadata": {},
   "outputs": [
    {
     "name": "stdout",
     "output_type": "stream",
     "text": [
      "Epoch [10/100], Loss: 4447.639160\n",
      "Epoch [20/100], Loss: 739.143005\n",
      "Epoch [30/100], Loss: 796.794617\n",
      "Epoch [40/100], Loss: 1244.005371\n",
      "Epoch [50/100], Loss: 1013.522949\n",
      "Epoch [60/100], Loss: 1044.442749\n",
      "Epoch [70/100], Loss: 3421.114014\n",
      "Epoch [80/100], Loss: 4281.611328\n",
      "Epoch [90/100], Loss: 575.284851\n",
      "Epoch [100/100], Loss: 1948.941772\n"
     ]
    }
   ],
   "source": [
    "fit(100,model,loss_fn,opt,ds)"
   ]
  },
  {
   "cell_type": "code",
   "execution_count": 32,
   "id": "130a78ff",
   "metadata": {},
   "outputs": [
    {
     "data": {
      "text/plain": [
       "tensor([[ 58.1702,  70.9900],\n",
       "        [ 79.6470,  96.5298],\n",
       "        [ 87.6166, 104.2774],\n",
       "        [ 61.0209,  76.7032],\n",
       "        [ 38.8905,  50.1424],\n",
       "        [ 87.4172, 107.7284],\n",
       "        [ 52.3074,  62.8697],\n",
       "        [ 82.8386,  96.0740],\n",
       "        [ 58.8723,  74.9889],\n",
       "        [ 79.6470,  96.5298],\n",
       "        [109.5442, 130.5831],\n",
       "        [ 54.8305,  70.1933],\n",
       "        [ 80.2810,  95.1895]], grad_fn=<AddmmBackward0>)"
      ]
     },
     "execution_count": 32,
     "metadata": {},
     "output_type": "execute_result"
    }
   ],
   "source": [
    "pred = model(inputs)\n",
    "pred"
   ]
  },
  {
   "cell_type": "code",
   "execution_count": 33,
   "id": "a616bf62",
   "metadata": {},
   "outputs": [
    {
     "data": {
      "text/plain": [
       "tensor([[ 58.,  70.],\n",
       "        [ 81., 101.],\n",
       "        [119., 133.],\n",
       "        [ 22.,  37.],\n",
       "        [103., 119.],\n",
       "        [ 57.,  69.],\n",
       "        [ 80., 102.],\n",
       "        [118., 132.],\n",
       "        [ 21.,  38.],\n",
       "        [ 82., 100.],\n",
       "        [ 20.,  38.],\n",
       "        [104., 118.],\n",
       "        [102., 120.]])"
      ]
     },
     "execution_count": 33,
     "metadata": {},
     "output_type": "execute_result"
    }
   ],
   "source": [
    "targets"
   ]
  },
  {
   "cell_type": "code",
   "execution_count": null,
   "id": "53e12b9b",
   "metadata": {},
   "outputs": [],
   "source": []
  }
 ],
 "metadata": {
  "kernelspec": {
   "display_name": "Python 3 (ipykernel)",
   "language": "python",
   "name": "python3"
  },
  "language_info": {
   "codemirror_mode": {
    "name": "ipython",
    "version": 3
   },
   "file_extension": ".py",
   "mimetype": "text/x-python",
   "name": "python",
   "nbconvert_exporter": "python",
   "pygments_lexer": "ipython3",
   "version": "3.11.3"
  }
 },
 "nbformat": 4,
 "nbformat_minor": 5
}
